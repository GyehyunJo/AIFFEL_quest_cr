{
  "nbformat": 4,
  "nbformat_minor": 0,
  "metadata": {
    "colab": {
      "provenance": []
    },
    "kernelspec": {
      "name": "python3",
      "display_name": "Python 3"
    },
    "language_info": {
      "name": "python"
    }
  },
  "cells": [
    {
      "cell_type": "code",
      "execution_count": null,
      "metadata": {
        "id": "okc0CW6ir03N",
        "colab": {
          "base_uri": "https://localhost:8080/"
        },
        "outputId": "6513c9b2-b137-4906-cf98-32b5828c7093"
      },
      "outputs": [
        {
          "name": "stdout",
          "output_type": "stream",
          "text": [
            "첫 번째 정수를 입력하세요: (종료하려면 'q' 입력):1001\n",
            "연산자가 팩토리얼(!)인 경우 첫 번째 정수만 사용됩니다. 계속 진행하시겠습니까? (y/n): y\n",
            "연산자를 입력해주세요 (+, -, *, /, **, !): !\n",
            "팩토리얼 계산의 숫자가 너무 큽니다.\n",
            "계속 계산하시겠습니까? (y/n): n\n"
          ]
        }
      ],
      "source": [
        "import math\n",
        "import sys\n",
        "\n",
        "def get_integer(prompt):             #정수 입력 받기\n",
        "    while True:\n",
        "        user_input = input(prompt)\n",
        "        if user_input.strip().lower() == 'q':  # 'q' 입력시 프로그램 종료\n",
        "            print(\"프로그램을 종료합니다.\")\n",
        "            sys.exit()\n",
        "        try:\n",
        "            return int(user_input)\n",
        "        except ValueError:          #정수가 아닐시 예외 처리\n",
        "            print(\"잘못된 입력입니다. 정수를 입력해주세요.\")\n",
        "\n",
        "def get_operator():                  #연산자 입력 받기\n",
        "    while True:\n",
        "        operator = input(\"연산자를 입력해주세요 (+, -, *, /, **, !): \")\n",
        "        if operator in ('+', '-', '*', '/', '**', '!'):\n",
        "            return operator\n",
        "        else:                                        #지원하지 않는 연산자 예외처리\n",
        "            print(\"지원하지 않는 연산자입니다. +, -, *, /, **, ! 중 하나를 입력해주세요.\")\n",
        "\n",
        "def calculate(num1, num2, operator):      #계산식\n",
        "    try:\n",
        "        if operator == '+':\n",
        "            return num1 + num2\n",
        "        elif operator == '-':\n",
        "            return num1 - num2\n",
        "        elif operator == '*':\n",
        "            return num1 * num2\n",
        "        elif operator == '/':\n",
        "            if num2 == 0:\n",
        "                raise ZeroDivisionError(\"0으로 나눌 수 없습니다.\")        #나눗셈 계산시 두번쨰 정수 0일때 예외처리,예외 객체 생성\n",
        "            return num1 / num2\n",
        "        elif operator == '**':\n",
        "            return math.pow(num1, num2)\n",
        "        elif operator == '!':\n",
        "            # 팩토리얼은 num1만 사용하고 num2는 무시\n",
        "            if num1 < 0:\n",
        "                raise ValueError(\"음수의 팩토리얼은 정의되지 않습니다.\")\n",
        "            if num1 > 1000:  # 팩토리얼 값 너무 클떄 예외처리\n",
        "                raise ValueError(\"팩토리얼 계산의 숫자가 너무 큽니다.\")\n",
        "            return math.factorial(num1)\n",
        "\n",
        "    except ValueError as e:   # 팩토리얼 값 너무 클떄 예외처리\n",
        "        print(e)\n",
        "        return None\n",
        "\n",
        "    except ZeroDivisionError as e:     #예외객체 활용 예외문 출력\n",
        "        print(e)\n",
        "        return None\n",
        "\n",
        "def main():\n",
        "    while True:\n",
        "      try:\n",
        "        num1 = get_integer(\"첫 번째 정수를 입력하세요: (종료하려면 'q' 입력):\")\n",
        "        if input(\"연산자가 팩토리얼(!)인 경우 첫 번째 정수만 사용됩니다. 계속 진행하시겠습니까? (y/n): \").strip().lower() != 'y':\n",
        "            continue\n",
        "\n",
        "        num2 = None\n",
        "        operator = get_operator()\n",
        "\n",
        "        if operator != '!':\n",
        "            num2 = get_integer(\"두 번째 정수를 입력하세요: (종료하려면 'q' 입력):\")\n",
        "\n",
        "        result = calculate(num1, num2, operator)          #계산 진행\n",
        "\n",
        "        if result is not None:                            #결과 출력\n",
        "            print(f\"계산 결과: {result}\")\n",
        "\n",
        "        cont = input(\"계속 계산하시겠습니까? (y/n): \").strip().lower()     #계속 계산할지 물어보기, 문자열 앞에 공백 제거, 소문자 변환\n",
        "        if cont != 'y':\n",
        "            break\n",
        "\n",
        "      except SystemExit:    #SystemExit 주피터환경 에러발생 예외처리\n",
        "          print(\"\")\n",
        "          break\n",
        "\n",
        "main()"
      ]
    },
    {
      "cell_type": "markdown",
      "source": [
        "# **조계현**\n",
        "\n",
        "같이 작업하신 진덕님의 아이디어를 코드에 추가할 수 있어 즐거웠다. 코랩 저장이 자꾸 엉켜서 밸류에러처리가 쉽지않았다.\n",
        "\n",
        "\n",
        "\n",
        "---\n",
        "\n",
        "안진덕\n",
        "=====\n",
        "+ 계산기 만드는건 구글링으로도 쉽게 접할 수 있어서 편했습니다.\n",
        "\n",
        "+ 계산기를 돌려보다 언제든지 나갈 수 있는 명령어가 필요하다는 것을 알았습니다. 계산식 중간에 언제든지 종료할 수 있는 단축키를 넣었습니다.\n",
        "\n",
        "+ 언제든지 종료할 수 있는 단축키가 종료는 되는데 시스템 오류 메세지를 발생하여서 그것을 처리할 수 있는 예외문을 넣었습니다.\n",
        "\n",
        "+ 팩토리얼 기능을 추가했는데 너무 큰 수는 계산할 수 없게 제한을 걸어놨습니다.\n",
        "\n",
        "+ 조원이신 계현님께 감사와 수고의 말씀을 올립니다."
      ],
      "metadata": {
        "id": "E3K_vFF57oUU"
      }
    }
  ]
}