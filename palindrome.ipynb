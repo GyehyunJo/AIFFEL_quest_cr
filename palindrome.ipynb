{
  "nbformat": 4,
  "nbformat_minor": 0,
  "metadata": {
    "colab": {
      "provenance": [],
      "include_colab_link": true
    },
    "kernelspec": {
      "name": "python3",
      "display_name": "Python 3"
    },
    "language_info": {
      "name": "python"
    }
  },
  "cells": [
    {
      "cell_type": "markdown",
      "metadata": {
        "id": "view-in-github",
        "colab_type": "text"
      },
      "source": [
        "<a href=\"https://colab.research.google.com/github/GyehyunJo/AIFFEL_quest_cr/blob/main/palindrome.ipynb\" target=\"_parent\"><img src=\"https://colab.research.google.com/assets/colab-badge.svg\" alt=\"Open In Colab\"/></a>"
      ]
    },
    {
      "cell_type": "code",
      "execution_count": 3,
      "metadata": {
        "id": "ZaXm9OyFpeX4",
        "colab": {
          "base_uri": "https://localhost:8080/"
        },
        "outputId": "4989f78d-70e1-4fd7-9103-e6a251e5bf2d"
      },
      "outputs": [
        {
          "output_type": "stream",
          "name": "stdout",
          "text": [
            "입력값: 으아\n",
            "뒤집힌 단어는: 아으\n",
            "입력된 단어는 회문이 아닙니다.\n"
          ]
        }
      ],
      "source": [
        "def reverse_string(s): #문자열을 뒤집는 함수\n",
        "\n",
        "    return s[::-1]  # s값을 뒤집어서 리턴한다\n",
        "\n",
        "def is_palindrome(s): #문자열을 회문인지 확인하는 함수\n",
        "\n",
        "    return s == reverse_string(s)\n",
        "\n",
        "\n",
        "input_word = input(\"입력값: \")  # 사용자로부터 단어 입력받기\n",
        "\n",
        "\n",
        "reversed_word = reverse_string(input_word)  #뒤집힌 단어를 저장\n",
        "print(f\"뒤집힌 단어는: {reversed_word}\")       #뒤집힌 단어를 출력,문자열 사이에 함수 집어넣고 싶을때 printf와 {}사용\n",
        "\n",
        "\n",
        "if is_palindrome(input_word):         #제어문, palindrome 함수 활용해 회문여부 확인\n",
        "    print(\"입력된 단어는 회문입니다.\")\n",
        "else:\n",
        "    print(\"입력된 단어는 회문이 아닙니다.\")\n",
        "\n",
        "#회고: 슬라이싱으로 뒤집는 [::-1]을 기억해둬야겠다. gpt의 도움을 받았는데 gpt의 도움을 최대한 덜 받도록 노력해야겠다."
      ]
    },
    {
      "cell_type": "code",
      "source": [],
      "metadata": {
        "id": "QR5r4M-rv-jD"
      },
      "execution_count": null,
      "outputs": []
    }
  ]
}