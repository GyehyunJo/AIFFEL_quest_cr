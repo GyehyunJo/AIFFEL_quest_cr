{
 "cells": [
  {
   "cell_type": "markdown",
   "id": "ffd7a52b",
   "metadata": {},
   "source": [
    "개요\n",
    "\n",
    "폐렴 진단기를 만들어보자"
   ]
  },
  {
   "cell_type": "code",
   "execution_count": 1,
   "id": "5ef11d57",
   "metadata": {},
   "outputs": [],
   "source": [
    "#패키지 임포트\n",
    "import os, re\n",
    "import random, math\n",
    "import numpy as np\n",
    "import tensorflow as tf\n",
    "import matplotlib.pyplot as plt\n",
    "import warnings \n",
    "warnings.filterwarnings(action='ignore')"
   ]
  },
  {
   "cell_type": "code",
   "execution_count": 2,
   "id": "3e1c23da",
   "metadata": {},
   "outputs": [
    {
     "name": "stdout",
     "output_type": "stream",
     "text": [
      "/aiffel/aiffel\n"
     ]
    }
   ],
   "source": [
    "# 데이터 로드할 때 빠르게 로드할 수 있도록하는 설정 변수\n",
    "AUTOTUNE = tf.data.experimental.AUTOTUNE\n",
    "# X-RAY 이미지 사이즈 변수\n",
    "IMAGE_SIZE = [180, 180]\n",
    "\n",
    "# 데이터 경로 변수\n",
    "ROOT_PATH = os.path.join(os.getenv('HOME'), 'aiffel')\n",
    "TRAIN_PATH = ROOT_PATH + '/chest_xray/data/train/*/*' # *은 모든 디렉토리와 파일을 의미합니다.\n",
    "VAL_PATH = ROOT_PATH + '/chest_xray/data/val/*/*'\n",
    "TEST_PATH = ROOT_PATH + '/chest_xray/data/test/*/*'\n",
    "\n",
    "# 프로젝트를 진행할 때 아래 두 변수를 변경해보세요\n",
    "BATCH_SIZE = 16\n",
    "EPOCHS = 10\n",
    "\n",
    "print(ROOT_PATH)"
   ]
  },
  {
   "cell_type": "code",
   "execution_count": 3,
   "id": "750c90e4",
   "metadata": {},
   "outputs": [
    {
     "name": "stdout",
     "output_type": "stream",
     "text": [
      "5216\n",
      "624\n",
      "16\n"
     ]
    }
   ],
   "source": [
    "#데이터 구조 체크\n",
    "train_filenames = tf.io.gfile.glob(TRAIN_PATH)\n",
    "test_filenames = tf.io.gfile.glob(TEST_PATH)\n",
    "val_filenames = tf.io.gfile.glob(VAL_PATH)\n",
    "\n",
    "print(len(train_filenames))\n",
    "print(len(test_filenames))\n",
    "print(len(val_filenames))"
   ]
  },
  {
   "cell_type": "code",
   "execution_count": 4,
   "id": "763b2028",
   "metadata": {},
   "outputs": [
    {
     "name": "stdout",
     "output_type": "stream",
     "text": [
      "4185\n",
      "1047\n"
     ]
    }
   ],
   "source": [
    "# train 데이터와 validation 데이터를 모두 filenames에 담습니다\n",
    "filenames = tf.io.gfile.glob(TRAIN_PATH)\n",
    "filenames.extend(tf.io.gfile.glob(VAL_PATH))\n",
    "\n",
    "# 모아진 filenames를 8:2로 나눕니다\n",
    "train_size = math.floor(len(filenames)*0.8)\n",
    "random.seed(8)\n",
    "random.shuffle(filenames)\n",
    "train_filenames = filenames[:train_size]\n",
    "val_filenames = filenames[train_size:]\n",
    "\n",
    "print(len(train_filenames))\n",
    "print(len(val_filenames))"
   ]
  },
  {
   "cell_type": "code",
   "execution_count": 5,
   "id": "7c41226f",
   "metadata": {},
   "outputs": [
    {
     "name": "stdout",
     "output_type": "stream",
     "text": [
      "Normal images count in training set: 1070\n",
      "Pneumonia images count in training set: 3115\n"
     ]
    }
   ],
   "source": [
    "#train 데이터안 정상이미지,폐렴이미지 개수 확인\n",
    "COUNT_NORMAL = len([filename for filename in train_filenames if \"NORMAL\" in filename])\n",
    "print(f\"Normal images count in training set: {COUNT_NORMAL}\")\n",
    "\n",
    "\n",
    "COUNT_PNEUMONIA = len([filename for filename in train_filenames if \"PNEUMONIA\" in filename])\n",
    "print(f\"Pneumonia images count in training set: {COUNT_PNEUMONIA}\")"
   ]
  },
  {
   "cell_type": "code",
   "execution_count": 6,
   "id": "39010b2a",
   "metadata": {},
   "outputs": [],
   "source": [
    "#작업시 미니배치 활용하기 위해 tf.data 인스턴스 생성\n",
    "train_list_ds = tf.data.Dataset.from_tensor_slices(train_filenames)\n",
    "val_list_ds = tf.data.Dataset.from_tensor_slices(val_filenames)"
   ]
  },
  {
   "cell_type": "code",
   "execution_count": 7,
   "id": "fa8ef971",
   "metadata": {},
   "outputs": [
    {
     "name": "stdout",
     "output_type": "stream",
     "text": [
      "Training images count: 4185\n",
      "Validating images count: 1047\n"
     ]
    }
   ],
   "source": [
    "#트레인데이터, 검증데이터 개수 확인\n",
    "TRAIN_IMG_COUNT = tf.data.experimental.cardinality(train_list_ds).numpy()\n",
    "print(f\"Training images count: {TRAIN_IMG_COUNT}\")\n",
    "\n",
    "VAL_IMG_COUNT = tf.data.experimental.cardinality(val_list_ds).numpy()\n",
    "print(f\"Validating images count: {VAL_IMG_COUNT}\")"
   ]
  },
  {
   "cell_type": "code",
   "execution_count": 8,
   "id": "f880ac42",
   "metadata": {},
   "outputs": [],
   "source": [
    "# 파일 경로의 끝에서 두번째 부분을 확인하면 양성과 음성을 구분할 수 있습니다\n",
    "def get_label(file_path):\n",
    "    parts = tf.strings.split(file_path, os.path.sep)\n",
    "    return parts[-2] == \"PNEUMONIA\"   # 폐렴이면 양성(True), 노말이면 음성(False)"
   ]
  },
  {
   "cell_type": "code",
   "execution_count": 9,
   "id": "21466899",
   "metadata": {},
   "outputs": [],
   "source": [
    "# 이미지를 알맞은 형식으로 바꿉니다.\n",
    "def decode_img(img):\n",
    "    img = tf.image.decode_jpeg(img, channels=3) # 이미지를 uint8 tensor로 수정\n",
    "    img = tf.image.convert_image_dtype(img, tf.float32) # float32 타입으로 수정\n",
    "    img = tf.image.resize(img, IMAGE_SIZE) # 이미지 사이즈를 IMAGE_SIZE로 수정\n",
    "    return img\n",
    "\n",
    "# 이미지 파일의 경로를 입력하면 이미지와 라벨을 읽어옵니다.\n",
    "def process_path(file_path):\n",
    "    label = get_label(file_path) # 라벨 검출\n",
    "    img = tf.io.read_file(file_path) # 이미지 읽기\n",
    "    img = decode_img(img) # 이미지를 알맞은 형식으로 수정\n",
    "    return img, label"
   ]
  },
  {
   "cell_type": "code",
   "execution_count": 10,
   "id": "1e7399a0",
   "metadata": {},
   "outputs": [],
   "source": [
    "#train 데이터 셋과 validation 데이터 셋을 만듭니다. num_parallel_calls 파라미터에 위에서 할당한 AUTOTUNE변수를 이용하면 더욱 빠르게 데이터를 처리해 즐 수 있습니다.\n",
    "train_ds = train_list_ds.map(process_path, num_parallel_calls=AUTOTUNE)\n",
    "val_ds = val_list_ds.map(process_path, num_parallel_calls=AUTOTUNE)"
   ]
  },
  {
   "cell_type": "code",
   "execution_count": 11,
   "id": "16edb7d0",
   "metadata": {},
   "outputs": [
    {
     "name": "stdout",
     "output_type": "stream",
     "text": [
      "Image shape:  (180, 180, 3)\n",
      "Label:  False\n"
     ]
    }
   ],
   "source": [
    "#이미지 리사이징, 라벨링 확인\n",
    "for image, label in train_ds.take(1):\n",
    "    print(\"Image shape: \", image.numpy().shape)\n",
    "    print(\"Label: \", label.numpy())"
   ]
  },
  {
   "cell_type": "code",
   "execution_count": 12,
   "id": "97f1748d",
   "metadata": {},
   "outputs": [
    {
     "name": "stdout",
     "output_type": "stream",
     "text": [
      "624\n"
     ]
    }
   ],
   "source": [
    "#테스트 데이터 만들고 개수 확인\n",
    "test_list_ds = tf.data.Dataset.list_files(TEST_PATH)\n",
    "TEST_IMAGE_COUNT = tf.data.experimental.cardinality(test_list_ds).numpy()\n",
    "test_ds = test_list_ds.map(process_path, num_parallel_calls=AUTOTUNE)\n",
    "test_ds = test_ds.batch(BATCH_SIZE)\n",
    "\n",
    "print(TEST_IMAGE_COUNT)"
   ]
  },
  {
   "cell_type": "code",
   "execution_count": 13,
   "id": "dd6d2a76",
   "metadata": {},
   "outputs": [],
   "source": [
    "# #효율적인 학습 위해 데이터 변환\n",
    "# def prepare_for_training(ds, shuffle_buffer_size=1000):\n",
    "#     ds = ds.shuffle(buffer_size=shuffle_buffer_size) #셔플 섞는 범위 크기\n",
    "#     ds = ds.repeat() #repeat()를 사용한 데이터셋의 경우 여러 번 데이터셋을 사용할 수 있게 해줍니다.\n",
    "#     ds = ds.batch(BATCH_SIZE)\n",
    "#     ds = ds.prefetch(buffer_size=AUTOTUNE) #prefetch()를 사용하면 학습 데이터를 나눠서 읽어오기 때문에, 첫 번째 데이터를 GPU에서 학습하는 동안 두 번째 데이터를 CPU에서 준비할 수 있어 리소스의 유휴 상태를 줄일 수 있습니다.\n",
    "#     return ds\n",
    "\n",
    "# train_ds = prepare_for_training(train_ds)\n",
    "# val_ds = prepare_for_training(val_ds)"
   ]
  },
  {
   "cell_type": "code",
   "execution_count": 14,
   "id": "0fec95ff",
   "metadata": {},
   "outputs": [],
   "source": [
    "# # 이미지 배치를 입력하면 여러장의 이미지를 보여줍니다.\n",
    "# def show_batch(image_batch, label_batch):\n",
    "#     plt.figure(figsize=(10,10))\n",
    "#     for n in range(BATCH_SIZE):\n",
    "#         ax = plt.subplot(4,math.ceil(BATCH_SIZE/4),n+1)\n",
    "#         plt.imshow(image_batch[n])\n",
    "#         if label_batch[n]:\n",
    "#             plt.title(\"PNEUMONIA\")\n",
    "#         else:\n",
    "#             plt.title(\"NORMAL\")\n",
    "#         plt.axis(\"off\")\n",
    "\n",
    "\n",
    "# image_batch, label_batch = next(iter(train_ds))\n",
    "# show_batch(image_batch.numpy(), label_batch.numpy())"
   ]
  },
  {
   "cell_type": "code",
   "execution_count": 13,
   "id": "46d16549",
   "metadata": {},
   "outputs": [],
   "source": [
    "#콘볼루션 블록 생성\n",
    "def conv_block(filters):\n",
    "    block = tf.keras.Sequential([\n",
    "        tf.keras.layers.SeparableConv2D(filters, 3, activation='relu', padding='same'),\n",
    "        tf.keras.layers.SeparableConv2D(filters, 3, activation='relu', padding='same'),\n",
    "        tf.keras.layers.BatchNormalization(),#정규화\n",
    "        tf.keras.layers.MaxPool2D()\n",
    "    ])\n",
    "    \n",
    "    return block"
   ]
  },
  {
   "cell_type": "code",
   "execution_count": 14,
   "id": "24228f86",
   "metadata": {},
   "outputs": [],
   "source": [
    "#덴스 블록 생성\n",
    "def dense_block(units, dropout_rate):\n",
    "    block = tf.keras.Sequential([\n",
    "        tf.keras.layers.Dense(units, activation='relu'),\n",
    "        tf.keras.layers.BatchNormalization(),#정규화\n",
    "        tf.keras.layers.Dropout(dropout_rate)#드랍아웃\n",
    "    ])\n",
    "    \n",
    "    return block"
   ]
  },
  {
   "cell_type": "code",
   "execution_count": 15,
   "id": "15f180b3",
   "metadata": {},
   "outputs": [],
   "source": [
    "#모델 생성\n",
    "def build_model():\n",
    "    model = tf.keras.Sequential([\n",
    "        tf.keras.Input(shape=(IMAGE_SIZE[0], IMAGE_SIZE[1], 3)),\n",
    "        \n",
    "        tf.keras.layers.Conv2D(16, 3, activation='relu', padding='same'),\n",
    "        tf.keras.layers.Conv2D(16, 3, activation='relu', padding='same'),\n",
    "        tf.keras.layers.MaxPool2D(),\n",
    "        \n",
    "        conv_block(32),\n",
    "        conv_block(64),\n",
    "        \n",
    "        conv_block(128),\n",
    "        tf.keras.layers.Dropout(0.2),\n",
    "        \n",
    "        conv_block(256),\n",
    "        tf.keras.layers.Dropout(0.2),\n",
    "        \n",
    "        tf.keras.layers.Flatten(),\n",
    "        dense_block(512, 0.7),\n",
    "        dense_block(128, 0.5),\n",
    "        dense_block(64, 0.3),\n",
    "        \n",
    "        tf.keras.layers.Dense(1, activation='sigmoid')\n",
    "    ])\n",
    "    \n",
    "    return model"
   ]
  },
  {
   "cell_type": "code",
   "execution_count": 16,
   "id": "c6c106c4",
   "metadata": {},
   "outputs": [
    {
     "name": "stdout",
     "output_type": "stream",
     "text": [
      "Weight for NORMAL: 1.96\n",
      "Weight for PNEUMONIA: 0.67\n"
     ]
    }
   ],
   "source": [
    "#데이버 불균형 보완 위해 가중치 설정\n",
    "weight_for_0 = (1 / COUNT_NORMAL)*(TRAIN_IMG_COUNT)/2.0 \n",
    "weight_for_1 = (1 / COUNT_PNEUMONIA)*(TRAIN_IMG_COUNT)/2.0\n",
    "\n",
    "class_weight = {0: weight_for_0, 1: weight_for_1}\n",
    "\n",
    "print('Weight for NORMAL: {:.2f}'.format(weight_for_0))\n",
    "print('Weight for PNEUMONIA: {:.2f}'.format(weight_for_1))"
   ]
  },
  {
   "cell_type": "code",
   "execution_count": 17,
   "id": "9655086b",
   "metadata": {},
   "outputs": [],
   "source": [
    "#컴파일\n",
    "with tf.device('/GPU:0'):\n",
    "    model = build_model()\n",
    "\n",
    "    METRICS = [\n",
    "        'accuracy',\n",
    "        tf.keras.metrics.Precision(name='precision'),\n",
    "        tf.keras.metrics.Recall(name='recall')\n",
    "    ]\n",
    "    \n",
    "    model.compile(\n",
    "        optimizer='adam',\n",
    "        loss='binary_crossentropy',\n",
    "        metrics=METRICS\n",
    "    )"
   ]
  },
  {
   "cell_type": "code",
   "execution_count": 20,
   "id": "e19634e3",
   "metadata": {},
   "outputs": [
    {
     "name": "stdout",
     "output_type": "stream",
     "text": [
      "Epoch 1/10\n",
      "261/261 [==============================] - 68s 210ms/step - loss: 0.3617 - accuracy: 0.8261 - precision: 0.9560 - recall: 0.8033 - val_loss: 0.8996 - val_accuracy: 0.7346 - val_precision: 0.7346 - val_recall: 1.0000\n",
      "Epoch 2/10\n",
      "261/261 [==============================] - 54s 206ms/step - loss: 0.2277 - accuracy: 0.9136 - precision: 0.9719 - recall: 0.9104 - val_loss: 1.5459 - val_accuracy: 0.7337 - val_precision: 0.7337 - val_recall: 1.0000\n",
      "Epoch 3/10\n",
      "261/261 [==============================] - 54s 206ms/step - loss: 0.2284 - accuracy: 0.9143 - precision: 0.9728 - recall: 0.9102 - val_loss: 0.9891 - val_accuracy: 0.7346 - val_precision: 0.7344 - val_recall: 1.0000\n",
      "Epoch 4/10\n",
      "261/261 [==============================] - 55s 210ms/step - loss: 0.1793 - accuracy: 0.9267 - precision: 0.9788 - recall: 0.9215 - val_loss: 0.0961 - val_accuracy: 0.9673 - val_precision: 0.9643 - val_recall: 0.9921\n",
      "Epoch 5/10\n",
      "261/261 [==============================] - 55s 213ms/step - loss: 0.1935 - accuracy: 0.9310 - precision: 0.9764 - recall: 0.9299 - val_loss: 0.0744 - val_accuracy: 0.9712 - val_precision: 0.9854 - val_recall: 0.9751\n",
      "Epoch 6/10\n",
      "261/261 [==============================] - 57s 220ms/step - loss: 0.1656 - accuracy: 0.9392 - precision: 0.9808 - recall: 0.9367 - val_loss: 0.0956 - val_accuracy: 0.9635 - val_precision: 0.9559 - val_recall: 0.9961\n",
      "Epoch 7/10\n",
      "261/261 [==============================] - 50s 192ms/step - loss: 0.1435 - accuracy: 0.9478 - precision: 0.9839 - recall: 0.9452 - val_loss: 1.1194 - val_accuracy: 0.7337 - val_precision: 0.7337 - val_recall: 1.0000\n",
      "Epoch 8/10\n",
      "261/261 [==============================] - 50s 190ms/step - loss: 0.1753 - accuracy: 0.9325 - precision: 0.9778 - recall: 0.9307 - val_loss: 0.1355 - val_accuracy: 0.9471 - val_precision: 0.9404 - val_recall: 0.9908\n",
      "Epoch 9/10\n",
      "261/261 [==============================] - 49s 188ms/step - loss: 0.1605 - accuracy: 0.9397 - precision: 0.9821 - recall: 0.9359 - val_loss: 0.0947 - val_accuracy: 0.9635 - val_precision: 0.9584 - val_recall: 0.9935\n",
      "Epoch 10/10\n",
      "261/261 [==============================] - 50s 190ms/step - loss: 0.1414 - accuracy: 0.9480 - precision: 0.9846 - recall: 0.9449 - val_loss: 0.0940 - val_accuracy: 0.9692 - val_precision: 0.9644 - val_recall: 0.9948\n"
     ]
    }
   ],
   "source": [
    "#모델 학습\n",
    "with tf.device('/GPU:0'):\n",
    "    history = model.fit(\n",
    "        train_ds,\n",
    "        steps_per_epoch=TRAIN_IMG_COUNT // BATCH_SIZE,\n",
    "        epochs=EPOCHS,\n",
    "        validation_data=val_ds,\n",
    "        validation_steps=VAL_IMG_COUNT // BATCH_SIZE,\n",
    "        class_weight=class_weight,\n",
    "    )"
   ]
  },
  {
   "cell_type": "code",
   "execution_count": 21,
   "id": "91769094",
   "metadata": {},
   "outputs": [
    {
     "data": {
      "image/png": "[encoded data removed]",
      "text/plain": [
       "<Figure size 1440x216 with 4 Axes>"
      ]
     },
     "metadata": {
      "needs_background": "light"
     },
     "output_type": "display_data"
    }
   ],
   "source": [
    "fig, ax = plt.subplots(1, 4, figsize=(20, 3))\n",
    "ax = ax.ravel()\n",
    "\n",
    "for i, met in enumerate(['precision', 'recall', 'accuracy', 'loss']):\n",
    "    ax[i].plot(history.history[met])\n",
    "    ax[i].plot(history.history['val_' + met])\n",
    "    ax[i].set_title('Model {}'.format(met))\n",
    "    ax[i].set_xlabel('epochs')\n",
    "    ax[i].set_ylabel(met)\n",
    "    ax[i].legend(['train', 'val'])"
   ]
  },
  {
   "cell_type": "code",
   "execution_count": 26,
   "id": "d27cb588",
   "metadata": {},
   "outputs": [
    {
     "name": "stdout",
     "output_type": "stream",
     "text": [
      "39/39 [==============================] - 5s 123ms/step - loss: 0.9131 - accuracy: 0.7724 - precision: 0.7348 - recall: 0.9949\n",
      "Loss: 0.9131187796592712,\n",
      "Accuracy: 0.7724359035491943,\n",
      "Precision: 0.7348484992980957,\n",
      "Recall: 0.9948717951774597\n"
     ]
    }
   ],
   "source": [
    "#테스트 데이터로 모델 평가\n",
    "loss, accuracy, precision, recall = model.evaluate(test_ds)\n",
    "print(f'Loss: {loss},\\nAccuracy: {accuracy},\\nPrecision: {precision},\\nRecall: {recall}')"
   ]
  },
  {
   "cell_type": "code",
   "execution_count": 18,
   "id": "11e0fa06",
   "metadata": {},
   "outputs": [],
   "source": [
    "#데이터 증강\n",
    "def augment(image,label):\n",
    "    image = tf.image.random_flip_left_right(image)  # 랜덤하게 좌우를 반전합니다.\n",
    "    return image,label\n",
    "\n",
    "def prepare_for_training(ds, shuffle_buffer_size=1000):\n",
    "    # augment 적용 부분이 배치처리 함수에 추가되었습니다.\n",
    "    ds = ds.map(\n",
    "            augment,       # augment 함수 적용\n",
    "            num_parallel_calls=2\n",
    "        )\n",
    "    ds = ds.shuffle(buffer_size=shuffle_buffer_size)\n",
    "    ds = ds.repeat()\n",
    "    ds = ds.batch(BATCH_SIZE)\n",
    "    ds = ds.prefetch(buffer_size=AUTOTUNE)\n",
    "\n",
    "    return ds\n",
    "\n",
    "train_ds = prepare_for_training(train_ds)\n",
    "val_ds = prepare_for_training(val_ds)"
   ]
  },
  {
   "cell_type": "code",
   "execution_count": 19,
   "id": "d54f0a58",
   "metadata": {},
   "outputs": [
    {
     "name": "stdout",
     "output_type": "stream",
     "text": [
      "Image shape: (16, 180, 180, 3)\n"
     ]
    }
   ],
   "source": [
    "for image, label in train_ds.take(1):\n",
    "    print(f\"Image shape: {image.shape}\")"
   ]
  },
  {
   "cell_type": "code",
   "execution_count": 23,
   "id": "d7bda9b4",
   "metadata": {},
   "outputs": [
    {
     "name": "stdout",
     "output_type": "stream",
     "text": [
      "Model: \"model\"\n",
      "__________________________________________________________________________________________________\n",
      "Layer (type)                    Output Shape         Param #     Connected to                     \n",
      "==================================================================================================\n",
      "input_2 (InputLayer)            [(None, 180, 180, 3) 0                                            \n",
      "__________________________________________________________________________________________________\n",
      "conv2d_2 (Conv2D)               (None, 90, 90, 64)   9472        input_2[0][0]                    \n",
      "__________________________________________________________________________________________________\n",
      "batch_normalization_7 (BatchNor (None, 90, 90, 64)   256         conv2d_2[0][0]                   \n",
      "__________________________________________________________________________________________________\n",
      "max_pooling2d_5 (MaxPooling2D)  (None, 45, 45, 64)   0           batch_normalization_7[0][0]      \n",
      "__________________________________________________________________________________________________\n",
      "conv2d_3 (Conv2D)               (None, 45, 45, 64)   36928       max_pooling2d_5[0][0]            \n",
      "__________________________________________________________________________________________________\n",
      "batch_normalization_8 (BatchNor (None, 45, 45, 64)   256         conv2d_3[0][0]                   \n",
      "__________________________________________________________________________________________________\n",
      "re_lu (ReLU)                    (None, 45, 45, 64)   0           batch_normalization_8[0][0]      \n",
      "__________________________________________________________________________________________________\n",
      "conv2d_4 (Conv2D)               (None, 45, 45, 64)   36928       re_lu[0][0]                      \n",
      "__________________________________________________________________________________________________\n",
      "batch_normalization_9 (BatchNor (None, 45, 45, 64)   256         conv2d_4[0][0]                   \n",
      "__________________________________________________________________________________________________\n",
      "add (Add)                       (None, 45, 45, 64)   0           batch_normalization_9[0][0]      \n",
      "                                                                 max_pooling2d_5[0][0]            \n",
      "__________________________________________________________________________________________________\n",
      "re_lu_1 (ReLU)                  (None, 45, 45, 64)   0           add[0][0]                        \n",
      "__________________________________________________________________________________________________\n",
      "conv2d_5 (Conv2D)               (None, 45, 45, 64)   36928       re_lu_1[0][0]                    \n",
      "__________________________________________________________________________________________________\n",
      "batch_normalization_10 (BatchNo (None, 45, 45, 64)   256         conv2d_5[0][0]                   \n",
      "__________________________________________________________________________________________________\n",
      "re_lu_2 (ReLU)                  (None, 45, 45, 64)   0           batch_normalization_10[0][0]     \n",
      "__________________________________________________________________________________________________\n",
      "conv2d_6 (Conv2D)               (None, 45, 45, 64)   36928       re_lu_2[0][0]                    \n",
      "__________________________________________________________________________________________________\n",
      "batch_normalization_11 (BatchNo (None, 45, 45, 64)   256         conv2d_6[0][0]                   \n",
      "__________________________________________________________________________________________________\n",
      "add_1 (Add)                     (None, 45, 45, 64)   0           batch_normalization_11[0][0]     \n",
      "                                                                 re_lu_1[0][0]                    \n",
      "__________________________________________________________________________________________________\n",
      "re_lu_3 (ReLU)                  (None, 45, 45, 64)   0           add_1[0][0]                      \n",
      "__________________________________________________________________________________________________\n",
      "conv2d_7 (Conv2D)               (None, 23, 23, 128)  73856       re_lu_3[0][0]                    \n",
      "__________________________________________________________________________________________________\n",
      "batch_normalization_12 (BatchNo (None, 23, 23, 128)  512         conv2d_7[0][0]                   \n",
      "__________________________________________________________________________________________________\n",
      "re_lu_4 (ReLU)                  (None, 23, 23, 128)  0           batch_normalization_12[0][0]     \n",
      "__________________________________________________________________________________________________\n",
      "conv2d_8 (Conv2D)               (None, 23, 23, 128)  147584      re_lu_4[0][0]                    \n",
      "__________________________________________________________________________________________________\n",
      "batch_normalization_13 (BatchNo (None, 23, 23, 128)  512         conv2d_8[0][0]                   \n",
      "__________________________________________________________________________________________________\n",
      "conv2d_9 (Conv2D)               (None, 23, 23, 128)  8320        re_lu_3[0][0]                    \n",
      "__________________________________________________________________________________________________\n",
      "add_2 (Add)                     (None, 23, 23, 128)  0           batch_normalization_13[0][0]     \n",
      "                                                                 conv2d_9[0][0]                   \n",
      "__________________________________________________________________________________________________\n",
      "re_lu_5 (ReLU)                  (None, 23, 23, 128)  0           add_2[0][0]                      \n",
      "__________________________________________________________________________________________________\n",
      "conv2d_10 (Conv2D)              (None, 23, 23, 128)  147584      re_lu_5[0][0]                    \n",
      "__________________________________________________________________________________________________\n",
      "batch_normalization_14 (BatchNo (None, 23, 23, 128)  512         conv2d_10[0][0]                  \n",
      "__________________________________________________________________________________________________\n",
      "re_lu_6 (ReLU)                  (None, 23, 23, 128)  0           batch_normalization_14[0][0]     \n",
      "__________________________________________________________________________________________________\n",
      "conv2d_11 (Conv2D)              (None, 23, 23, 128)  147584      re_lu_6[0][0]                    \n",
      "__________________________________________________________________________________________________\n",
      "batch_normalization_15 (BatchNo (None, 23, 23, 128)  512         conv2d_11[0][0]                  \n",
      "__________________________________________________________________________________________________\n",
      "add_3 (Add)                     (None, 23, 23, 128)  0           batch_normalization_15[0][0]     \n",
      "                                                                 re_lu_5[0][0]                    \n",
      "__________________________________________________________________________________________________\n",
      "re_lu_7 (ReLU)                  (None, 23, 23, 128)  0           add_3[0][0]                      \n",
      "__________________________________________________________________________________________________\n",
      "conv2d_12 (Conv2D)              (None, 12, 12, 256)  295168      re_lu_7[0][0]                    \n",
      "__________________________________________________________________________________________________\n",
      "batch_normalization_16 (BatchNo (None, 12, 12, 256)  1024        conv2d_12[0][0]                  \n",
      "__________________________________________________________________________________________________\n",
      "re_lu_8 (ReLU)                  (None, 12, 12, 256)  0           batch_normalization_16[0][0]     \n",
      "__________________________________________________________________________________________________\n",
      "conv2d_13 (Conv2D)              (None, 12, 12, 256)  590080      re_lu_8[0][0]                    \n",
      "__________________________________________________________________________________________________\n",
      "batch_normalization_17 (BatchNo (None, 12, 12, 256)  1024        conv2d_13[0][0]                  \n",
      "__________________________________________________________________________________________________\n",
      "conv2d_14 (Conv2D)              (None, 12, 12, 256)  33024       re_lu_7[0][0]                    \n",
      "__________________________________________________________________________________________________\n",
      "add_4 (Add)                     (None, 12, 12, 256)  0           batch_normalization_17[0][0]     \n",
      "                                                                 conv2d_14[0][0]                  \n",
      "__________________________________________________________________________________________________\n",
      "re_lu_9 (ReLU)                  (None, 12, 12, 256)  0           add_4[0][0]                      \n",
      "__________________________________________________________________________________________________\n",
      "conv2d_15 (Conv2D)              (None, 12, 12, 256)  590080      re_lu_9[0][0]                    \n",
      "__________________________________________________________________________________________________\n",
      "batch_normalization_18 (BatchNo (None, 12, 12, 256)  1024        conv2d_15[0][0]                  \n",
      "__________________________________________________________________________________________________\n",
      "re_lu_10 (ReLU)                 (None, 12, 12, 256)  0           batch_normalization_18[0][0]     \n",
      "__________________________________________________________________________________________________\n",
      "conv2d_16 (Conv2D)              (None, 12, 12, 256)  590080      re_lu_10[0][0]                   \n",
      "__________________________________________________________________________________________________\n",
      "batch_normalization_19 (BatchNo (None, 12, 12, 256)  1024        conv2d_16[0][0]                  \n",
      "__________________________________________________________________________________________________\n",
      "add_5 (Add)                     (None, 12, 12, 256)  0           batch_normalization_19[0][0]     \n",
      "                                                                 re_lu_9[0][0]                    \n",
      "__________________________________________________________________________________________________\n",
      "re_lu_11 (ReLU)                 (None, 12, 12, 256)  0           add_5[0][0]                      \n",
      "__________________________________________________________________________________________________\n",
      "conv2d_17 (Conv2D)              (None, 6, 6, 512)    1180160     re_lu_11[0][0]                   \n",
      "__________________________________________________________________________________________________\n",
      "batch_normalization_20 (BatchNo (None, 6, 6, 512)    2048        conv2d_17[0][0]                  \n",
      "__________________________________________________________________________________________________\n",
      "re_lu_12 (ReLU)                 (None, 6, 6, 512)    0           batch_normalization_20[0][0]     \n",
      "__________________________________________________________________________________________________\n",
      "conv2d_18 (Conv2D)              (None, 6, 6, 512)    2359808     re_lu_12[0][0]                   \n",
      "__________________________________________________________________________________________________\n",
      "batch_normalization_21 (BatchNo (None, 6, 6, 512)    2048        conv2d_18[0][0]                  \n",
      "__________________________________________________________________________________________________\n",
      "conv2d_19 (Conv2D)              (None, 6, 6, 512)    131584      re_lu_11[0][0]                   \n",
      "__________________________________________________________________________________________________\n",
      "add_6 (Add)                     (None, 6, 6, 512)    0           batch_normalization_21[0][0]     \n",
      "                                                                 conv2d_19[0][0]                  \n",
      "__________________________________________________________________________________________________\n",
      "re_lu_13 (ReLU)                 (None, 6, 6, 512)    0           add_6[0][0]                      \n",
      "__________________________________________________________________________________________________\n",
      "conv2d_20 (Conv2D)              (None, 6, 6, 512)    2359808     re_lu_13[0][0]                   \n",
      "__________________________________________________________________________________________________\n",
      "batch_normalization_22 (BatchNo (None, 6, 6, 512)    2048        conv2d_20[0][0]                  \n",
      "__________________________________________________________________________________________________\n",
      "re_lu_14 (ReLU)                 (None, 6, 6, 512)    0           batch_normalization_22[0][0]     \n",
      "__________________________________________________________________________________________________\n",
      "conv2d_21 (Conv2D)              (None, 6, 6, 512)    2359808     re_lu_14[0][0]                   \n",
      "__________________________________________________________________________________________________\n",
      "batch_normalization_23 (BatchNo (None, 6, 6, 512)    2048        conv2d_21[0][0]                  \n",
      "__________________________________________________________________________________________________\n",
      "add_7 (Add)                     (None, 6, 6, 512)    0           batch_normalization_23[0][0]     \n",
      "                                                                 re_lu_13[0][0]                   \n",
      "__________________________________________________________________________________________________\n",
      "re_lu_15 (ReLU)                 (None, 6, 6, 512)    0           add_7[0][0]                      \n",
      "__________________________________________________________________________________________________\n",
      "global_average_pooling2d (Globa (None, 512)          0           re_lu_15[0][0]                   \n",
      "__________________________________________________________________________________________________\n",
      "dropout_5 (Dropout)             (None, 512)          0           global_average_pooling2d[0][0]   \n",
      "__________________________________________________________________________________________________\n",
      "dense_4 (Dense)                 (None, 512)          262656      dropout_5[0][0]                  \n",
      "__________________________________________________________________________________________________\n",
      "dropout_6 (Dropout)             (None, 512)          0           dense_4[0][0]                    \n",
      "__________________________________________________________________________________________________\n",
      "dense_5 (Dense)                 (None, 128)          65664       dropout_6[0][0]                  \n",
      "__________________________________________________________________________________________________\n",
      "dropout_7 (Dropout)             (None, 128)          0           dense_5[0][0]                    \n",
      "__________________________________________________________________________________________________\n",
      "dense_6 (Dense)                 (None, 64)           8256        dropout_7[0][0]                  \n",
      "__________________________________________________________________________________________________\n",
      "dense_7 (Dense)                 (None, 1)            65          dense_6[0][0]                    \n",
      "==================================================================================================\n",
      "Total params: 11,523,969\n",
      "Trainable params: 11,516,161\n",
      "Non-trainable params: 7,808\n",
      "__________________________________________________________________________________________________\n"
     ]
    }
   ],
   "source": [
    "#레즈넷 모델 구축\n",
    "import tensorflow as tf\n",
    "\n",
    "# ResNet 스타일의 Residual 블록을 구현하는 함수\n",
    "def res_block(input_tensor, filters, stride=1):\n",
    "    x = tf.keras.layers.Conv2D(filters, (3, 3), strides=stride, padding='same')(input_tensor)\n",
    "    x = tf.keras.layers.BatchNormalization()(x)\n",
    "    x = tf.keras.layers.ReLU()(x)\n",
    "\n",
    "    x = tf.keras.layers.Conv2D(filters, (3, 3), padding='same')(x)\n",
    "    x = tf.keras.layers.BatchNormalization()(x)\n",
    "\n",
    "    if stride != 1 or input_tensor.shape[-1] != filters:\n",
    "        input_tensor = tf.keras.layers.Conv2D(filters, (1, 1), strides=stride, padding='same')(input_tensor)\n",
    "\n",
    "    x = tf.keras.layers.add([x, input_tensor])\n",
    "    x = tf.keras.layers.ReLU()(x)\n",
    "    return x\n",
    "\n",
    "def build_model():\n",
    "    inputs = tf.keras.Input(shape=(IMAGE_SIZE[0], IMAGE_SIZE[1], 3))\n",
    "\n",
    "    # ResNet 스타일의 첫 번째 conv1 블록과 max pooling 추가\n",
    "    x = tf.keras.layers.Conv2D(64, (7, 7), strides=2, padding='same', activation='relu')(inputs)\n",
    "    x = tf.keras.layers.BatchNormalization()(x)\n",
    "    x = tf.keras.layers.MaxPool2D(pool_size=(3, 3), strides=2, padding='same')(x)\n",
    "\n",
    "    # Residual Block Layers\n",
    "    x = res_block(x, 64)\n",
    "    x = res_block(x, 64)\n",
    "\n",
    "    x = res_block(x, 128, stride=2)\n",
    "    x = res_block(x, 128)\n",
    "\n",
    "    x = res_block(x, 256, stride=2)\n",
    "    x = res_block(x, 256)\n",
    "\n",
    "    x = res_block(x, 512, stride=2)\n",
    "    x = res_block(x, 512)\n",
    "\n",
    "    # 전역 평균 풀링\n",
    "    x = tf.keras.layers.GlobalAveragePooling2D()(x)\n",
    "    \n",
    "    # Dropout과 Dense 레이어 추가 (사용자 요구 사항 반영)\n",
    "    x = tf.keras.layers.Dropout(0.5)(x)\n",
    "    x = tf.keras.layers.Dense(512, activation='relu')(x)\n",
    "    x = tf.keras.layers.Dropout(0.5)(x)\n",
    "    x = tf.keras.layers.Dense(128, activation='relu')(x)\n",
    "    x = tf.keras.layers.Dropout(0.3)(x)\n",
    "    x = tf.keras.layers.Dense(64, activation='relu')(x)\n",
    "\n",
    "    # 최종 출력층 (시그모이드)\n",
    "    outputs = tf.keras.layers.Dense(1, activation='sigmoid')(x)\n",
    "\n",
    "    # 모델 정의\n",
    "    model = tf.keras.Model(inputs, outputs)\n",
    "    return model\n",
    "\n",
    "# 모델 생성\n",
    "model = build_model()\n",
    "model.summary()\n"
   ]
  },
  {
   "cell_type": "code",
   "execution_count": 24,
   "id": "56fbc825",
   "metadata": {},
   "outputs": [],
   "source": [
    "#레즈넷 모델 컴파일\n",
    "#컴파일\n",
    "with tf.device('/GPU:0'):\n",
    "    model = build_model()\n",
    "\n",
    "    METRICS = [\n",
    "        'accuracy',\n",
    "        tf.keras.metrics.Precision(name='precision'),\n",
    "        tf.keras.metrics.Recall(name='recall')\n",
    "    ]\n",
    "    \n",
    "    model.compile(\n",
    "        optimizer='adam',\n",
    "        loss='binary_crossentropy',\n",
    "        metrics=METRICS\n",
    "    )"
   ]
  },
  {
   "cell_type": "code",
   "execution_count": 25,
   "id": "fad0b0e1",
   "metadata": {
    "scrolled": true
   },
   "outputs": [
    {
     "name": "stdout",
     "output_type": "stream",
     "text": [
      "Epoch 1/10\n",
      "261/261 [==============================] - 68s 205ms/step - loss: 0.3866 - accuracy: 0.8405 - precision: 0.9485 - recall: 0.8307 - val_loss: 2.5585 - val_accuracy: 0.7337 - val_precision: 0.7337 - val_recall: 1.0000\n",
      "Epoch 2/10\n",
      "261/261 [==============================] - 53s 204ms/step - loss: 0.2468 - accuracy: 0.9004 - precision: 0.9746 - recall: 0.8894 - val_loss: 0.6363 - val_accuracy: 0.7760 - val_precision: 0.7656 - val_recall: 1.0000\n",
      "Epoch 3/10\n",
      "261/261 [==============================] - 54s 206ms/step - loss: 0.2427 - accuracy: 0.9068 - precision: 0.9762 - recall: 0.8967 - val_loss: 0.1366 - val_accuracy: 0.9510 - val_precision: 0.9697 - val_recall: 0.9633\n",
      "Epoch 4/10\n",
      "261/261 [==============================] - 54s 208ms/step - loss: 0.1906 - accuracy: 0.9169 - precision: 0.9828 - recall: 0.9041 - val_loss: 0.8582 - val_accuracy: 0.8115 - val_precision: 0.7954 - val_recall: 1.0000\n",
      "Epoch 5/10\n",
      "261/261 [==============================] - 55s 212ms/step - loss: 0.1665 - accuracy: 0.9387 - precision: 0.9838 - recall: 0.9333 - val_loss: 0.5741 - val_accuracy: 0.8163 - val_precision: 0.8000 - val_recall: 0.9987\n",
      "Epoch 6/10\n",
      "261/261 [==============================] - 57s 220ms/step - loss: 0.1589 - accuracy: 0.9428 - precision: 0.9828 - recall: 0.9394 - val_loss: 0.1323 - val_accuracy: 0.9510 - val_precision: 0.9850 - val_recall: 0.9476\n",
      "Epoch 7/10\n",
      "261/261 [==============================] - 49s 189ms/step - loss: 0.1610 - accuracy: 0.9361 - precision: 0.9846 - recall: 0.9286 - val_loss: 0.9375 - val_accuracy: 0.5510 - val_precision: 0.9966 - val_recall: 0.3893\n",
      "Epoch 8/10\n",
      "261/261 [==============================] - 49s 188ms/step - loss: 0.1666 - accuracy: 0.9437 - precision: 0.9848 - recall: 0.9388 - val_loss: 0.7788 - val_accuracy: 0.7019 - val_precision: 1.0000 - val_recall: 0.5932\n",
      "Epoch 9/10\n",
      "261/261 [==============================] - 49s 188ms/step - loss: 0.1402 - accuracy: 0.9454 - precision: 0.9865 - recall: 0.9396 - val_loss: 0.4847 - val_accuracy: 0.7808 - val_precision: 0.9944 - val_recall: 0.7047\n",
      "Epoch 10/10\n",
      "261/261 [==============================] - 49s 189ms/step - loss: 0.1233 - accuracy: 0.9488 - precision: 0.9898 - recall: 0.9408 - val_loss: 0.1244 - val_accuracy: 0.9654 - val_precision: 0.9584 - val_recall: 0.9961\n"
     ]
    }
   ],
   "source": [
    "#레즈넷 모델 학습\n",
    "#모델 학습\n",
    "with tf.device('/GPU:0'):\n",
    "    history = model.fit(\n",
    "        train_ds,\n",
    "        steps_per_epoch=TRAIN_IMG_COUNT // BATCH_SIZE,\n",
    "        epochs=EPOCHS,\n",
    "        validation_data=val_ds,\n",
    "        validation_steps=VAL_IMG_COUNT // BATCH_SIZE,\n",
    "        class_weight=class_weight,\n",
    "    )"
   ]
  },
  {
   "cell_type": "code",
   "execution_count": 27,
   "id": "83e16ba4",
   "metadata": {},
   "outputs": [
    {
     "data": {
      "image/png": "[encoded data removed]",
      "text/plain": [
       "<Figure size 1440x216 with 4 Axes>"
      ]
     },
     "metadata": {
      "needs_background": "light"
     },
     "output_type": "display_data"
    }
   ],
   "source": [
    "#레즈넷 모델 학습 지표\n",
    "fig, ax = plt.subplots(1, 4, figsize=(20, 3))\n",
    "ax = ax.ravel()\n",
    "\n",
    "for i, met in enumerate(['precision', 'recall', 'accuracy', 'loss']):\n",
    "    ax[i].plot(history.history[met])\n",
    "    ax[i].plot(history.history['val_' + met])\n",
    "    ax[i].set_title('Model {}'.format(met))\n",
    "    ax[i].set_xlabel('epochs')\n",
    "    ax[i].set_ylabel(met)\n",
    "    ax[i].legend(['train', 'val'])"
   ]
  },
  {
   "cell_type": "code",
   "execution_count": 28,
   "id": "8231747b",
   "metadata": {},
   "outputs": [
    {
     "name": "stdout",
     "output_type": "stream",
     "text": [
      "39/39 [==============================] - 5s 123ms/step - loss: 1.9782 - accuracy: 0.7019 - precision: 0.6771 - recall: 1.0000\n",
      "Loss: 1.978187918663025,\n",
      "Accuracy: 0.7019230723381042,\n",
      "Precision: 0.6770833134651184,\n",
      "Recall: 1.0\n"
     ]
    }
   ],
   "source": [
    "#테스트 데이터로 레즈넷 모델 평가\n",
    "loss, accuracy, precision, recall = model.evaluate(test_ds)\n",
    "print(f'Loss: {loss},\\nAccuracy: {accuracy},\\nPrecision: {precision},\\nRecall: {recall}')"
   ]
  },
  {
   "cell_type": "code",
   "execution_count": 20,
   "id": "b0b961ca",
   "metadata": {},
   "outputs": [
    {
     "name": "stdout",
     "output_type": "stream",
     "text": [
      "Model: \"model\"\n",
      "__________________________________________________________________________________________________\n",
      "Layer (type)                    Output Shape         Param #     Connected to                     \n",
      "==================================================================================================\n",
      "input_2 (InputLayer)            [(None, 180, 180, 3) 0                                            \n",
      "__________________________________________________________________________________________________\n",
      "conv2d_2 (Conv2D)               (None, 90, 90, 32)   4736        input_2[0][0]                    \n",
      "__________________________________________________________________________________________________\n",
      "batch_normalization_7 (BatchNor (None, 90, 90, 32)   128         conv2d_2[0][0]                   \n",
      "__________________________________________________________________________________________________\n",
      "max_pooling2d_5 (MaxPooling2D)  (None, 45, 45, 32)   0           batch_normalization_7[0][0]      \n",
      "__________________________________________________________________________________________________\n",
      "conv2d_3 (Conv2D)               (None, 45, 45, 32)   9248        max_pooling2d_5[0][0]            \n",
      "__________________________________________________________________________________________________\n",
      "batch_normalization_8 (BatchNor (None, 45, 45, 32)   128         conv2d_3[0][0]                   \n",
      "__________________________________________________________________________________________________\n",
      "re_lu (ReLU)                    (None, 45, 45, 32)   0           batch_normalization_8[0][0]      \n",
      "__________________________________________________________________________________________________\n",
      "conv2d_4 (Conv2D)               (None, 45, 45, 32)   9248        re_lu[0][0]                      \n",
      "__________________________________________________________________________________________________\n",
      "batch_normalization_9 (BatchNor (None, 45, 45, 32)   128         conv2d_4[0][0]                   \n",
      "__________________________________________________________________________________________________\n",
      "add (Add)                       (None, 45, 45, 32)   0           batch_normalization_9[0][0]      \n",
      "                                                                 max_pooling2d_5[0][0]            \n",
      "__________________________________________________________________________________________________\n",
      "re_lu_1 (ReLU)                  (None, 45, 45, 32)   0           add[0][0]                        \n",
      "__________________________________________________________________________________________________\n",
      "conv2d_5 (Conv2D)               (None, 45, 45, 32)   9248        re_lu_1[0][0]                    \n",
      "__________________________________________________________________________________________________\n",
      "batch_normalization_10 (BatchNo (None, 45, 45, 32)   128         conv2d_5[0][0]                   \n",
      "__________________________________________________________________________________________________\n",
      "re_lu_2 (ReLU)                  (None, 45, 45, 32)   0           batch_normalization_10[0][0]     \n",
      "__________________________________________________________________________________________________\n",
      "conv2d_6 (Conv2D)               (None, 45, 45, 32)   9248        re_lu_2[0][0]                    \n",
      "__________________________________________________________________________________________________\n",
      "batch_normalization_11 (BatchNo (None, 45, 45, 32)   128         conv2d_6[0][0]                   \n",
      "__________________________________________________________________________________________________\n",
      "add_1 (Add)                     (None, 45, 45, 32)   0           batch_normalization_11[0][0]     \n",
      "                                                                 re_lu_1[0][0]                    \n",
      "__________________________________________________________________________________________________\n",
      "re_lu_3 (ReLU)                  (None, 45, 45, 32)   0           add_1[0][0]                      \n",
      "__________________________________________________________________________________________________\n",
      "conv2d_7 (Conv2D)               (None, 23, 23, 64)   18496       re_lu_3[0][0]                    \n",
      "__________________________________________________________________________________________________\n",
      "batch_normalization_12 (BatchNo (None, 23, 23, 64)   256         conv2d_7[0][0]                   \n",
      "__________________________________________________________________________________________________\n",
      "re_lu_4 (ReLU)                  (None, 23, 23, 64)   0           batch_normalization_12[0][0]     \n",
      "__________________________________________________________________________________________________\n",
      "conv2d_8 (Conv2D)               (None, 23, 23, 64)   36928       re_lu_4[0][0]                    \n",
      "__________________________________________________________________________________________________\n",
      "batch_normalization_13 (BatchNo (None, 23, 23, 64)   256         conv2d_8[0][0]                   \n",
      "__________________________________________________________________________________________________\n",
      "conv2d_9 (Conv2D)               (None, 23, 23, 64)   2112        re_lu_3[0][0]                    \n",
      "__________________________________________________________________________________________________\n",
      "add_2 (Add)                     (None, 23, 23, 64)   0           batch_normalization_13[0][0]     \n",
      "                                                                 conv2d_9[0][0]                   \n",
      "__________________________________________________________________________________________________\n",
      "re_lu_5 (ReLU)                  (None, 23, 23, 64)   0           add_2[0][0]                      \n",
      "__________________________________________________________________________________________________\n",
      "conv2d_10 (Conv2D)              (None, 23, 23, 64)   36928       re_lu_5[0][0]                    \n",
      "__________________________________________________________________________________________________\n",
      "batch_normalization_14 (BatchNo (None, 23, 23, 64)   256         conv2d_10[0][0]                  \n",
      "__________________________________________________________________________________________________\n",
      "re_lu_6 (ReLU)                  (None, 23, 23, 64)   0           batch_normalization_14[0][0]     \n",
      "__________________________________________________________________________________________________\n",
      "conv2d_11 (Conv2D)              (None, 23, 23, 64)   36928       re_lu_6[0][0]                    \n",
      "__________________________________________________________________________________________________\n",
      "batch_normalization_15 (BatchNo (None, 23, 23, 64)   256         conv2d_11[0][0]                  \n",
      "__________________________________________________________________________________________________\n",
      "add_3 (Add)                     (None, 23, 23, 64)   0           batch_normalization_15[0][0]     \n",
      "                                                                 re_lu_5[0][0]                    \n",
      "__________________________________________________________________________________________________\n",
      "re_lu_7 (ReLU)                  (None, 23, 23, 64)   0           add_3[0][0]                      \n",
      "__________________________________________________________________________________________________\n",
      "conv2d_12 (Conv2D)              (None, 12, 12, 128)  73856       re_lu_7[0][0]                    \n",
      "__________________________________________________________________________________________________\n",
      "batch_normalization_16 (BatchNo (None, 12, 12, 128)  512         conv2d_12[0][0]                  \n",
      "__________________________________________________________________________________________________\n",
      "re_lu_8 (ReLU)                  (None, 12, 12, 128)  0           batch_normalization_16[0][0]     \n",
      "__________________________________________________________________________________________________\n",
      "conv2d_13 (Conv2D)              (None, 12, 12, 128)  147584      re_lu_8[0][0]                    \n",
      "__________________________________________________________________________________________________\n",
      "batch_normalization_17 (BatchNo (None, 12, 12, 128)  512         conv2d_13[0][0]                  \n",
      "__________________________________________________________________________________________________\n",
      "conv2d_14 (Conv2D)              (None, 12, 12, 128)  8320        re_lu_7[0][0]                    \n",
      "__________________________________________________________________________________________________\n",
      "add_4 (Add)                     (None, 12, 12, 128)  0           batch_normalization_17[0][0]     \n",
      "                                                                 conv2d_14[0][0]                  \n",
      "__________________________________________________________________________________________________\n",
      "re_lu_9 (ReLU)                  (None, 12, 12, 128)  0           add_4[0][0]                      \n",
      "__________________________________________________________________________________________________\n",
      "conv2d_15 (Conv2D)              (None, 12, 12, 128)  147584      re_lu_9[0][0]                    \n",
      "__________________________________________________________________________________________________\n",
      "batch_normalization_18 (BatchNo (None, 12, 12, 128)  512         conv2d_15[0][0]                  \n",
      "__________________________________________________________________________________________________\n",
      "re_lu_10 (ReLU)                 (None, 12, 12, 128)  0           batch_normalization_18[0][0]     \n",
      "__________________________________________________________________________________________________\n",
      "conv2d_16 (Conv2D)              (None, 12, 12, 128)  147584      re_lu_10[0][0]                   \n",
      "__________________________________________________________________________________________________\n",
      "batch_normalization_19 (BatchNo (None, 12, 12, 128)  512         conv2d_16[0][0]                  \n",
      "__________________________________________________________________________________________________\n",
      "add_5 (Add)                     (None, 12, 12, 128)  0           batch_normalization_19[0][0]     \n",
      "                                                                 re_lu_9[0][0]                    \n",
      "__________________________________________________________________________________________________\n",
      "re_lu_11 (ReLU)                 (None, 12, 12, 128)  0           add_5[0][0]                      \n",
      "__________________________________________________________________________________________________\n",
      "conv2d_17 (Conv2D)              (None, 6, 6, 256)    295168      re_lu_11[0][0]                   \n",
      "__________________________________________________________________________________________________\n",
      "batch_normalization_20 (BatchNo (None, 6, 6, 256)    1024        conv2d_17[0][0]                  \n",
      "__________________________________________________________________________________________________\n",
      "re_lu_12 (ReLU)                 (None, 6, 6, 256)    0           batch_normalization_20[0][0]     \n",
      "__________________________________________________________________________________________________\n",
      "conv2d_18 (Conv2D)              (None, 6, 6, 256)    590080      re_lu_12[0][0]                   \n",
      "__________________________________________________________________________________________________\n",
      "batch_normalization_21 (BatchNo (None, 6, 6, 256)    1024        conv2d_18[0][0]                  \n",
      "__________________________________________________________________________________________________\n",
      "conv2d_19 (Conv2D)              (None, 6, 6, 256)    33024       re_lu_11[0][0]                   \n",
      "__________________________________________________________________________________________________\n",
      "add_6 (Add)                     (None, 6, 6, 256)    0           batch_normalization_21[0][0]     \n",
      "                                                                 conv2d_19[0][0]                  \n",
      "__________________________________________________________________________________________________\n",
      "re_lu_13 (ReLU)                 (None, 6, 6, 256)    0           add_6[0][0]                      \n",
      "__________________________________________________________________________________________________\n",
      "conv2d_20 (Conv2D)              (None, 6, 6, 256)    590080      re_lu_13[0][0]                   \n",
      "__________________________________________________________________________________________________\n",
      "batch_normalization_22 (BatchNo (None, 6, 6, 256)    1024        conv2d_20[0][0]                  \n",
      "__________________________________________________________________________________________________\n",
      "re_lu_14 (ReLU)                 (None, 6, 6, 256)    0           batch_normalization_22[0][0]     \n",
      "__________________________________________________________________________________________________\n",
      "conv2d_21 (Conv2D)              (None, 6, 6, 256)    590080      re_lu_14[0][0]                   \n",
      "__________________________________________________________________________________________________\n",
      "batch_normalization_23 (BatchNo (None, 6, 6, 256)    1024        conv2d_21[0][0]                  \n",
      "__________________________________________________________________________________________________\n",
      "add_7 (Add)                     (None, 6, 6, 256)    0           batch_normalization_23[0][0]     \n",
      "                                                                 re_lu_13[0][0]                   \n",
      "__________________________________________________________________________________________________\n",
      "re_lu_15 (ReLU)                 (None, 6, 6, 256)    0           add_7[0][0]                      \n",
      "__________________________________________________________________________________________________\n",
      "global_average_pooling2d (Globa (None, 256)          0           re_lu_15[0][0]                   \n",
      "__________________________________________________________________________________________________\n",
      "dropout_5 (Dropout)             (None, 256)          0           global_average_pooling2d[0][0]   \n",
      "__________________________________________________________________________________________________\n",
      "dense_4 (Dense)                 (None, 256)          65792       dropout_5[0][0]                  \n",
      "__________________________________________________________________________________________________\n",
      "dropout_6 (Dropout)             (None, 256)          0           dense_4[0][0]                    \n",
      "__________________________________________________________________________________________________\n",
      "dense_5 (Dense)                 (None, 64)           16448       dropout_6[0][0]                  \n",
      "__________________________________________________________________________________________________\n",
      "dense_6 (Dense)                 (None, 1)            65          dense_5[0][0]                    \n",
      "==================================================================================================\n",
      "Total params: 2,886,593\n",
      "Trainable params: 2,882,689\n",
      "Non-trainable params: 3,904\n",
      "__________________________________________________________________________________________________\n"
     ]
    }
   ],
   "source": [
    "#조금 더 간단하게 수정한 레즈넷 모델\n",
    "\n",
    "import tensorflow as tf\n",
    "\n",
    "# 단순화된 Residual 블록 함수\n",
    "def res_block(input_tensor, filters, stride=1):\n",
    "    x = tf.keras.layers.Conv2D(filters, (3, 3), strides=stride, padding='same')(input_tensor)\n",
    "    x = tf.keras.layers.BatchNormalization()(x)\n",
    "    x = tf.keras.layers.ReLU()(x)\n",
    "\n",
    "    x = tf.keras.layers.Conv2D(filters, (3, 3), padding='same')(x)\n",
    "    x = tf.keras.layers.BatchNormalization()(x)\n",
    "\n",
    "    # 입력과 크기가 다를 경우 스킵 연결을 위한 차원 맞춤\n",
    "    if stride != 1 or input_tensor.shape[-1] != filters:\n",
    "        input_tensor = tf.keras.layers.Conv2D(filters, (1, 1), strides=stride, padding='same')(input_tensor)\n",
    "\n",
    "    # 스킵 연결\n",
    "    x = tf.keras.layers.add([x, input_tensor])\n",
    "    x = tf.keras.layers.ReLU()(x)\n",
    "    return x\n",
    "\n",
    "def build_model():\n",
    "    inputs = tf.keras.Input(shape=(180, 180, 3))  # IMAGE_SIZE를 180으로 고정\n",
    "\n",
    "    # 첫 번째 Conv 블록과 Max Pooling\n",
    "    x = tf.keras.layers.Conv2D(32, (7, 7), strides=2, padding='same', activation='relu')(inputs)\n",
    "    x = tf.keras.layers.BatchNormalization()(x)\n",
    "    x = tf.keras.layers.MaxPool2D(pool_size=(3, 3), strides=2, padding='same')(x)\n",
    "\n",
    "    # 단순화된 Residual Block Layers\n",
    "    x = res_block(x, 32)\n",
    "    x = res_block(x, 32)\n",
    "\n",
    "    x = res_block(x, 64, stride=2)\n",
    "    x = res_block(x, 64)\n",
    "\n",
    "    x = res_block(x, 128, stride=2)\n",
    "    x = res_block(x, 128)\n",
    "\n",
    "    x = res_block(x, 256, stride=2)\n",
    "    x = res_block(x, 256)\n",
    "\n",
    "    # 전역 평균 풀링\n",
    "    x = tf.keras.layers.GlobalAveragePooling2D()(x)\n",
    "    \n",
    "    # Dropout과 Dense 레이어 (단순화된 버전)\n",
    "    x = tf.keras.layers.Dropout(0.4)(x)  # 드롭아웃 비율 줄임\n",
    "    x = tf.keras.layers.Dense(256, activation='relu')(x)  # Dense 크기 줄임\n",
    "    x = tf.keras.layers.Dropout(0.3)(x)  # 드롭아웃 비율 줄임\n",
    "    x = tf.keras.layers.Dense(64, activation='relu')(x)\n",
    "\n",
    "    # 최종 출력층 (시그모이드)\n",
    "    outputs = tf.keras.layers.Dense(1, activation='sigmoid')(x)\n",
    "\n",
    "    # 모델 정의\n",
    "    model = tf.keras.Model(inputs, outputs)\n",
    "    return model\n",
    "\n",
    "# 모델 생성\n",
    "model = build_model()\n",
    "model.summary()\n"
   ]
  },
  {
   "cell_type": "code",
   "execution_count": 21,
   "id": "cc33d0a9",
   "metadata": {},
   "outputs": [],
   "source": [
    "#간단하게 수정한 레즈넷모델 컴파일\n",
    "with tf.device('/GPU:0'):\n",
    "    model = build_model()\n",
    "\n",
    "    METRICS = [\n",
    "        'accuracy',\n",
    "        tf.keras.metrics.Precision(name='precision'),\n",
    "        tf.keras.metrics.Recall(name='recall')\n",
    "    ]\n",
    "    \n",
    "    model.compile(\n",
    "        optimizer='adam',\n",
    "        loss='binary_crossentropy',\n",
    "        metrics=METRICS\n",
    "    )"
   ]
  },
  {
   "cell_type": "code",
   "execution_count": 22,
   "id": "aa7bae1a",
   "metadata": {},
   "outputs": [
    {
     "name": "stdout",
     "output_type": "stream",
     "text": [
      "Epoch 1/10\n",
      "261/261 [==============================] - 68s 205ms/step - loss: 0.3018 - accuracy: 0.8767 - precision: 0.9619 - recall: 0.8687 - val_loss: 0.4172 - val_accuracy: 0.8298 - val_precision: 0.8239 - val_recall: 0.9764\n",
      "Epoch 2/10\n",
      "261/261 [==============================] - 53s 203ms/step - loss: 0.1891 - accuracy: 0.9267 - precision: 0.9791 - recall: 0.9212 - val_loss: 0.5946 - val_accuracy: 0.6519 - val_precision: 0.9902 - val_recall: 0.5308\n",
      "Epoch 3/10\n",
      "261/261 [==============================] - 53s 205ms/step - loss: 0.1567 - accuracy: 0.9341 - precision: 0.9816 - recall: 0.9289 - val_loss: 1.3245 - val_accuracy: 0.4644 - val_precision: 1.0000 - val_recall: 0.2709\n",
      "Epoch 4/10\n",
      "261/261 [==============================] - 53s 205ms/step - loss: 0.1756 - accuracy: 0.9346 - precision: 0.9759 - recall: 0.9354 - val_loss: 0.2382 - val_accuracy: 0.9183 - val_precision: 0.9033 - val_recall: 0.9947\n",
      "Epoch 5/10\n",
      "261/261 [==============================] - 55s 211ms/step - loss: 0.1473 - accuracy: 0.9437 - precision: 0.9858 - recall: 0.9379 - val_loss: 1.5415 - val_accuracy: 0.7327 - val_precision: 0.7327 - val_recall: 1.0000\n",
      "Epoch 6/10\n",
      "261/261 [==============================] - 57s 219ms/step - loss: 0.1242 - accuracy: 0.9519 - precision: 0.9840 - recall: 0.9508 - val_loss: 3.6274 - val_accuracy: 0.4375 - val_precision: 1.0000 - val_recall: 0.2343\n",
      "Epoch 7/10\n",
      "261/261 [==============================] - 48s 185ms/step - loss: 0.1043 - accuracy: 0.9614 - precision: 0.9891 - recall: 0.9588 - val_loss: 0.1836 - val_accuracy: 0.9394 - val_precision: 0.9834 - val_recall: 0.9331\n",
      "Epoch 8/10\n",
      "261/261 [==============================] - 46s 179ms/step - loss: 0.1025 - accuracy: 0.9614 - precision: 0.9907 - recall: 0.9572 - val_loss: 0.2860 - val_accuracy: 0.9029 - val_precision: 0.8895 - val_recall: 0.9908\n",
      "Epoch 9/10\n",
      "261/261 [==============================] - 50s 193ms/step - loss: 0.1005 - accuracy: 0.9614 - precision: 0.9907 - recall: 0.9572 - val_loss: 7.8038 - val_accuracy: 0.3096 - val_precision: 1.0000 - val_recall: 0.0577\n",
      "Epoch 10/10\n",
      "261/261 [==============================] - 50s 192ms/step - loss: 0.0932 - accuracy: 0.9646 - precision: 0.9891 - recall: 0.9631 - val_loss: 0.8104 - val_accuracy: 0.7875 - val_precision: 0.7752 - val_recall: 1.0000\n"
     ]
    }
   ],
   "source": [
    "#간단하게 수정한 레즈넷 모델 학습\n",
    "with tf.device('/GPU:0'):\n",
    "    history = model.fit(\n",
    "        train_ds,\n",
    "        steps_per_epoch=TRAIN_IMG_COUNT // BATCH_SIZE,\n",
    "        epochs=EPOCHS,\n",
    "        validation_data=val_ds,\n",
    "        validation_steps=VAL_IMG_COUNT // BATCH_SIZE,\n",
    "        class_weight=class_weight,\n",
    "    )"
   ]
  },
  {
   "cell_type": "code",
   "execution_count": 23,
   "id": "84e20627",
   "metadata": {},
   "outputs": [
    {
     "data": {
      "image/png": "[encoded data removed]",
      "text/plain": [
       "<Figure size 1440x216 with 4 Axes>"
      ]
     },
     "metadata": {
      "needs_background": "light"
     },
     "output_type": "display_data"
    }
   ],
   "source": [
    "#간단하게 수정한 레즈넷 모델 학습 지표\n",
    "fig, ax = plt.subplots(1, 4, figsize=(20, 3))\n",
    "ax = ax.ravel()\n",
    "\n",
    "for i, met in enumerate(['precision', 'recall', 'accuracy', 'loss']):\n",
    "    ax[i].plot(history.history[met])\n",
    "    ax[i].plot(history.history['val_' + met])\n",
    "    ax[i].set_title('Model {}'.format(met))\n",
    "    ax[i].set_xlabel('epochs')\n",
    "    ax[i].set_ylabel(met)\n",
    "    ax[i].legend(['train', 'val'])"
   ]
  },
  {
   "cell_type": "code",
   "execution_count": 24,
   "id": "afc56fa8",
   "metadata": {},
   "outputs": [
    {
     "name": "stdout",
     "output_type": "stream",
     "text": [
      "39/39 [==============================] - 5s 112ms/step - loss: 3.7410 - accuracy: 0.6330 - precision: 0.6300 - recall: 1.0000\n",
      "Loss: 3.740983247756958,\n",
      "Accuracy: 0.6330128312110901,\n",
      "Precision: 0.6300484538078308,\n",
      "Recall: 1.0\n"
     ]
    }
   ],
   "source": [
    "#테스트 데이터로 간단하게 수정한 레즈넷 모델 평가\n",
    "loss, accuracy, precision, recall = model.evaluate(test_ds)\n",
    "print(f'Loss: {loss},\\nAccuracy: {accuracy},\\nPrecision: {precision},\\nRecall: {recall}')"
   ]
  },
  {
   "cell_type": "markdown",
   "id": "e651a741",
   "metadata": {},
   "source": [
    "회고\n",
    "\n",
    "베이스 모델은 정확도 77%, 정밀도 73%, 재현율 99%였다.\n",
    "\n",
    "레즈넷 모델에 이미지 좌우변환정도의 간단한 데이터 증강을 해서 돌렸을땐 더 낮은 지표인 정확도 70% 정밀도 67%가 나왔다.\n",
    "\n",
    "조금 더 간단하게 수정한 레즈넷 모델(간단한 데이터 증강 그대로 사용)은 더 더 낮은 지표인 정확도 63% 정밀도 63%가 나왔다.\n",
    "\n",
    "베이스 모델에 데이터 증강만 적용한 경우도 테스트 해보고 싶었는데 작업하다 튕기는 경우가 많아서 해보지 못했다."
   ]
  }
 ],
 "metadata": {
  "kernelspec": {
   "display_name": "Python 3 (ipykernel)",
   "language": "python",
   "name": "python3"
  },
  "language_info": {
   "codemirror_mode": {
    "name": "ipython",
    "version": 3
   },
   "file_extension": ".py",
   "mimetype": "text/x-python",
   "name": "python",
   "nbconvert_exporter": "python",
   "pygments_lexer": "ipython3",
   "version": "3.9.7"
  }
 },
 "nbformat": 4,
 "nbformat_minor": 5
}
